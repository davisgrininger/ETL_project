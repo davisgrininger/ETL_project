{
 "cells": [
  {
   "cell_type": "code",
   "execution_count": 23,
   "metadata": {},
   "outputs": [],
   "source": [
    "import pandas as pd\n",
    "import matplotlib.pyplot as plt\n",
    "import time\n",
    "from splinter import Browser"
   ]
  },
  {
   "cell_type": "code",
   "execution_count": 24,
   "metadata": {},
   "outputs": [],
   "source": [
    "year_list = ['2009','2010','2011', '2012','2013','2014','2015','2016','2017','2018','2019']\n",
    "#year_list = ['2009']\n",
    "attendence_list = []\n",
    "\n",
    "# for year in year_list:\n",
    "#     url = 'http://www.espn.com/nba/attendance/_/year/' + year\n",
    "#     table = pd.read_html(url)\n",
    "\n",
    "#     attendence_list.append(table)\n",
    "    \n"
   ]
  },
  {
   "cell_type": "code",
   "execution_count": null,
   "metadata": {},
   "outputs": [],
   "source": [
    "team_list = ['ATL','BOS', 'NJN','CHA','CHI','CLE','DAL','DEN','DET','GSW','HOU','IND','LAC','LAL','MEM','MIA','MIL','MIN','NOH', 'NYK', 'OKC','ORL','PHI','PHO','POR','SAC', 'SAS', 'TOR','UTA','WAS']\n",
    "#team_list = ['NOP']\n",
    "executable_path = {'executable_path': '/usr/local/bin/chromedriver'}\n",
    "browser = Browser('chrome', **executable_path, headless=False)\n",
    "\n",
    "\n",
    "\n",
    " #team_list = ['SAC']\n",
    "team_by_year = []\n",
    "bunchofdata = []\n",
    "\n",
    "\n",
    "\n",
    "#the_url = 'https://www.basketball-reference.com/teams/SAC/'\n",
    "\n",
    "for team in team_list:\n",
    "    for year in year_list:\n",
    "        #try:\n",
    "            the_url = 'https://www.basketball-reference.com/teams/' + team + '/'\n",
    "            url = the_url + year + '.html'\n",
    "            browser.visit(url)\n",
    "            \n",
    "            \n",
    "            #time.sleep(1)\n",
    "            tables = pd.read_html(browser.html)\n",
    "            if len(tables) < 10:\n",
    "                print(\"Couldn't find this one:\")\n",
    "                print(team, year)\n",
    "                continue\n",
    "            \n",
    "            W_matches = []\n",
    "            ThreeP_matches = []\n",
    "            \n",
    "            for table in tables:\n",
    "                if 'Offense Four Factors' in table.columns:\n",
    "                    W_matches.append(table)\n",
    "                    \n",
    "            for table in tables:\n",
    "                if '3P' in table.columns:\n",
    "                    ThreeP_matches.append(table)\n",
    "                    \n",
    "                    \n",
    "                    \n",
    "#         except:\n",
    "#             print(\"Couldn't find this one, oh well...\")\n",
    "#             print(team , year)\n",
    "            \n",
    "        \n",
    "        \n",
    "\n"
   ]
  },
  {
   "cell_type": "code",
   "execution_count": null,
   "metadata": {},
   "outputs": [],
   "source": [
    "W_matches"
   ]
  },
  {
   "cell_type": "code",
   "execution_count": null,
   "metadata": {},
   "outputs": [],
   "source": []
  },
  {
   "cell_type": "code",
   "execution_count": null,
   "metadata": {},
   "outputs": [],
   "source": []
  }
 ],
 "metadata": {
  "kernelspec": {
   "display_name": "Python 3",
   "language": "python",
   "name": "python3"
  },
  "language_info": {
   "codemirror_mode": {
    "name": "ipython",
    "version": 3
   },
   "file_extension": ".py",
   "mimetype": "text/x-python",
   "name": "python",
   "nbconvert_exporter": "python",
   "pygments_lexer": "ipython3",
   "version": "3.7.3"
  }
 },
 "nbformat": 4,
 "nbformat_minor": 2
}
